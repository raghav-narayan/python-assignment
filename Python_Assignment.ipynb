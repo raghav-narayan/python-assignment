{
  "nbformat": 4,
  "nbformat_minor": 0,
  "metadata": {
    "kernelspec": {
      "display_name": "Python 3",
      "language": "python",
      "name": "python3"
    },
    "language_info": {
      "codemirror_mode": {
        "name": "ipython",
        "version": 3
      },
      "file_extension": ".py",
      "mimetype": "text/x-python",
      "name": "python",
      "nbconvert_exporter": "python",
      "pygments_lexer": "ipython3",
      "version": "3.6.8"
    },
    "colab": {
      "name": "Python Assignment 1.ipynb",
      "provenance": [],
      "collapsed_sections": []
    }
  },
  "cells": [
    {
      "cell_type": "markdown",
      "metadata": {
        "id": "l0ZzOlyxB-kf"
      },
      "source": [
        "<h1>Python: without numpy or sklearn </h1>"
      ]
    },
    {
      "cell_type": "markdown",
      "metadata": {
        "id": "C0xO8JV9B-ki"
      },
      "source": [
        "<h3> Q1: Given two matrices please print the product of those two matrices </h3>\n",
        "<pre>\n",
        "\n",
        "Ex 1: A   = [[1 3 4]\n",
        "             [2 5 7]\n",
        "             [5 9 6]]\n",
        "      B   = [[1 0 0]\n",
        "             [0 1 0]\n",
        "             [0 0 1]]\n",
        "      A*B = [[1 3 4]\n",
        "             [2 5 7]\n",
        "             [5 9 6]]\n",
        "\n",
        "     \n",
        "Ex 2: A   = [[1 2]\n",
        "             [3 4]]\n",
        "      B   = [[1 2 3 4 5]\n",
        "             [5 6 7 8 9]]\n",
        "      A*B = [[11 14 17 20 23]\n",
        "             [23 30 36 42 51]]\n",
        "             \n",
        "Ex 3: A   = [[1 2]\n",
        "             [3 4]]\n",
        "      B   = [[1 4]\n",
        "             [5 6]\n",
        "             [7 8]\n",
        "             [9 6]]\n",
        "      A*B =Not possible\n",
        "</pre>"
      ]
    },
    {
      "cell_type": "code",
      "metadata": {
        "id": "rnssAfpgB-kj",
        "outputId": "dc281b44-5eb4-4f2d-d50f-5fad09d048f8",
        "colab": {
          "base_uri": "https://localhost:8080/",
          "height": 34
        }
      },
      "source": [
        "# write your python code here\n",
        "# you can take the above example as sample input for your program to test\n",
        "# it should work for any general input try not to hard code for only given input examples\n",
        "\n",
        "# you can free to change all these codes/structure\n",
        "# here A and B are list of lists\n",
        "def matrix_mul(A, B):\n",
        "  \"\"\"This function takes two 2-D lists (matrices)\n",
        "and outputs the matrix product\"\"\"\n",
        "    # write your code\n",
        "  (r1,c1) = len(A),len(A[0])\n",
        "  (r2,c2) = len(B),len(B[0])\n",
        "# Only if the columns of the first matrix and rows of the second matrix are same,then the matrix multiplication is possible\n",
        "  if c1!=r2:\n",
        "    return \"Not possible\"\n",
        "  else:\n",
        "    res = [[0 for i in range(c2)] for j in range(r1)]\n",
        "    for i in range(len(A)):\n",
        "      for j in range(len(B[0])):\n",
        "        for k in range(len(B)):\n",
        "          res[i][j] += A[i][k] * B[k][j]\n",
        "    \n",
        "    return res\n",
        "    \n",
        "    \n",
        "A = [[1,3,4],[2,5,7],[5,9,6]]\n",
        "B = [[1,0,0],[0,1,0],[0,0,1]]\n",
        "print(\"A*B =\",matrix_mul(A, B))\n"
      ],
      "execution_count": 15,
      "outputs": [
        {
          "output_type": "stream",
          "text": [
            "A*B = [[1, 3, 4], [2, 5, 7], [5, 9, 6]]\n"
          ],
          "name": "stdout"
        }
      ]
    },
    {
      "cell_type": "markdown",
      "metadata": {
        "id": "at4VwLggB-kn"
      },
      "source": [
        "<h3> Q2: Select a number randomly with probability proportional to its magnitude from the given array of n elements</h3>\n",
        "\n",
        "consider an experiment, selecting an element from the list A randomly with probability proportional to its magnitude.\n",
        "assume we are doing the same experiment for 100 times with replacement, in each experiment you will print a number that is selected randomly from A.\n",
        "\n",
        "<pre>\n",
        "Ex 1: A = [0 5 27 6 13 28 100 45 10 79]\n",
        "let f(x) denote the number of times x getting selected in 100 experiments.\n",
        "f(100) > f(79) > f(45) > f(28) > f(27) > f(13) > f(10) > f(6) > f(5) > f(0)\n",
        "</pre>"
      ]
    },
    {
      "cell_type": "code",
      "metadata": {
        "id": "B6S2dpBhB-kn",
        "outputId": "19c74067-4763-4939-f6b9-393917dc691b",
        "colab": {
          "base_uri": "https://localhost:8080/",
          "height": 1680
        }
      },
      "source": [
        "from random import uniform\n",
        "import functools\n",
        "# write your python code here\n",
        "# you can take the above example as sample input for your program to test\n",
        "# it should work for any general input try not to hard code for only given input examples\n",
        "\n",
        "\n",
        "# you can free to change all these codes/structure\n",
        "def pick_a_number_from_list(d):\n",
        "    # your code here for picking an element from with the probability propotional to its magnitude\n",
        "    #.\n",
        "    #.import functools\n",
        "  d=sorted(d)\n",
        "  sum_d=functools.reduce(lambda a,b : a+b,d)\n",
        "  d_dash=[] # Normalised array d\n",
        "  d_tilda=[] #Cumulative sum\n",
        "  for i in range(len(d)):\n",
        "    d_dash.append(d[i]/sum_d)\n",
        "  for i in range(len(d_dash)):\n",
        "    sum=0\n",
        "    for j in range(i+1):\n",
        "      sum+=d_dash[j]\n",
        "    d_tilda.append(sum)\n",
        "  \"\"\"The difference of any consecutive d_tilda[i]-d_tilda[i-1] is directly proportional\n",
        "to d_dash[i]\"\"\"\n",
        "  from random import uniform\n",
        "  #Probablity of choosing a number from array is proportional to magnitude\n",
        "  for i in range(0,30):  \n",
        "    r= uniform(0,1) # Choosing a number from random normal disb\n",
        "    for i in range(len(d_tilda)):\n",
        "      if r <= d_tilda[i]:\n",
        "        return d[i]\n",
        "\n",
        "A = [0, 5, 27, 6, 13, 28, 100, 45, 10, 79]\n",
        "def sampling_based_on_magnitued():\n",
        "    for i in range(1,100):\n",
        "        number = pick_a_number_from_list(A)\n",
        "        print(number)\n",
        "\n",
        "sampling_based_on_magnitued()\n"
      ],
      "execution_count": 2,
      "outputs": [
        {
          "output_type": "stream",
          "text": [
            "13\n",
            "100\n",
            "27\n",
            "79\n",
            "27\n",
            "45\n",
            "45\n",
            "10\n",
            "28\n",
            "100\n",
            "28\n",
            "10\n",
            "45\n",
            "79\n",
            "100\n",
            "45\n",
            "79\n",
            "100\n",
            "5\n",
            "28\n",
            "28\n",
            "79\n",
            "79\n",
            "100\n",
            "79\n",
            "79\n",
            "45\n",
            "45\n",
            "79\n",
            "5\n",
            "10\n",
            "100\n",
            "45\n",
            "100\n",
            "13\n",
            "5\n",
            "13\n",
            "100\n",
            "28\n",
            "10\n",
            "28\n",
            "100\n",
            "100\n",
            "28\n",
            "79\n",
            "100\n",
            "100\n",
            "27\n",
            "79\n",
            "45\n",
            "79\n",
            "45\n",
            "100\n",
            "79\n",
            "100\n",
            "100\n",
            "100\n",
            "27\n",
            "100\n",
            "27\n",
            "79\n",
            "100\n",
            "27\n",
            "100\n",
            "27\n",
            "100\n",
            "100\n",
            "45\n",
            "27\n",
            "100\n",
            "79\n",
            "10\n",
            "45\n",
            "79\n",
            "45\n",
            "100\n",
            "79\n",
            "27\n",
            "100\n",
            "100\n",
            "79\n",
            "79\n",
            "79\n",
            "45\n",
            "28\n",
            "27\n",
            "79\n",
            "79\n",
            "100\n",
            "100\n",
            "100\n",
            "79\n",
            "28\n",
            "45\n",
            "79\n",
            "79\n",
            "100\n",
            "13\n",
            "100\n"
          ],
          "name": "stdout"
        }
      ]
    },
    {
      "cell_type": "markdown",
      "metadata": {
        "id": "D1xQy2WWB-kq"
      },
      "source": [
        "<h3> Q3: Replace the digits in the string with #</h3>\n",
        "\n",
        "consider a string that will have digits in that, we need to remove all the not digits and replace the digits with #\n",
        "<pre>\n",
        "Ex 1: A = 234                Output: ###\n",
        "Ex 2: A = a2b3c4             Output: ###\n",
        "Ex 3: A = abc                Output:   (empty string)\n",
        "Ex 5: A = #2a$#b%c%561#      Output: ####\n",
        "</pre>"
      ]
    },
    {
      "cell_type": "code",
      "metadata": {
        "id": "fxczi2jzB-kr",
        "outputId": "4f11b9dd-aeac-49b5-ad65-c06bd7a47822",
        "colab": {
          "base_uri": "https://localhost:8080/",
          "height": 35
        }
      },
      "source": [
        "import re\n",
        "# write your python code here\n",
        "# you can take the above example as sample input for your program to test\n",
        "# it should work for any general input try not to hard code for only given input examples\n",
        "\n",
        "# you can free to change all these codes/structure\n",
        "# String: it will be the input to your program\n",
        "def replace_digits(String):\n",
        "    # write your code\n",
        "  s= re.sub(\"[^0-9]\",'',String) # Regex expression to keep only digits 0-9\n",
        "  s = re.sub(\"[0-9]\",'#',s) #Regex expression to replace digits 0-9 with '#'\n",
        "\n",
        "  return(s) # modified string which is after replacing the # with digits\n",
        "\n",
        "replace_digits('#2a$#b%c%561#  ')"
      ],
      "execution_count": 3,
      "outputs": [
        {
          "output_type": "execute_result",
          "data": {
            "application/vnd.google.colaboratory.intrinsic+json": {
              "type": "string"
            },
            "text/plain": [
              "'####'"
            ]
          },
          "metadata": {
            "tags": []
          },
          "execution_count": 3
        }
      ]
    },
    {
      "cell_type": "markdown",
      "metadata": {
        "id": "j7h0Ywg7B-kw"
      },
      "source": [
        "<h3> Q4: Students marks dashboard</h3>\n",
        "\n",
        "consider the marks list of class students given two lists <br>\n",
        "Students = ['student1','student2','student3','student4','student5','student6','student7','student8','student9','student10'] <br>\n",
        "Marks = [45, 78, 12, 14, 48, 43, 45, 98, 35, 80] <br>\n",
        "from the above two lists the Student[0] got Marks[0],  Student[1] got Marks[1] and so on <br><br>\n",
        "your task is to print the name of students\n",
        "<strong>a. Who got top 5 ranks, in the descending order of marks</strong> <br>\n",
        "<strong>b. Who got least 5 ranks, in the increasing order of marks</strong><br>\n",
        "<strong>d. Who got marks between  &gt;25th percentile &lt;75th percentile, in the increasing order of marks</strong>\n",
        "\n",
        "<pre>\n",
        "Ex 1: \n",
        "Students=['student1','student2','student3','student4','student5','student6','student7','student8','student9','student10'] \n",
        "Marks = [45, 78, 12, 14, 48, 43, 47, 98, 35, 80]\n",
        "a. \n",
        "student8  98\n",
        "student10 80\n",
        "student2  78\n",
        "student5  48\n",
        "student7  47\n",
        "b.\n",
        "student3 12\n",
        "student4 14\n",
        "student9 35\n",
        "student6 43\n",
        "student1 45\n",
        "c.\n",
        "student9 35\n",
        "student6 43\n",
        "student1 45\n",
        "student7 47\n",
        "student5 48\n",
        "</pre>"
      ]
    },
    {
      "cell_type": "code",
      "metadata": {
        "id": "cxPJgItsB-kx",
        "outputId": "52fe9dcb-8e7a-4138-8a4a-76ea018e6bf0",
        "colab": {
          "base_uri": "https://localhost:8080/",
          "height": 319
        }
      },
      "source": [
        "# write your python code here\n",
        "# you can take the above example as sample input for your program to test\n",
        "# it should work for any general input try not to hard code for only given input examples\n",
        "#Reference: https://stackoverflow.com/questions/2374640/how-do-i-calculate-percentiles-with-python-numpy\n",
        "import math\n",
        "students = ['student1','student2','student3','student4','student5','student6','student7','student8','student9','student10'] \n",
        "marks =  [45, 78, 12, 14, 48, 43, 47, 98, 35, 80]\n",
        "\n",
        "# The below function calulates the percentile value for a given list based on a given percentage\n",
        "def percentile(lst,percent):\n",
        "  pos = math.ceil ((len(lst)*percent)/100)\n",
        "  return sorted(lst)[int(pos)-1]\n",
        "\n",
        "# you can free to change all these codes/structure\n",
        "def display_dash_board(students, marks):\n",
        "    # write code for computing top top 5 students\n",
        "    #Using an dict to map marks and students\n",
        "    d = {}\n",
        "    i=0\n",
        "    for mark in marks:\n",
        "      d[mark]=students[i]\n",
        "      i=i+1\n",
        "    #Sorting in descending order and fetching the corresponding students from dict\n",
        "    marks.sort(reverse=True)\n",
        "    top_5_students =[] \n",
        "    for i in range(5):\n",
        "      top_5_students.append(d[marks[i]])\n",
        "    \n",
        "    #code for computing least 5 students\n",
        "    least_5_students = []\n",
        "     #Sorting in ascending order and fetching the corresponding students from dict\n",
        "    marks.sort()\n",
        "    for i in range(5):\n",
        "      least_5_students.append(d[marks[i]])\n",
        "    \n",
        "    # write code for computing top least 5 students\n",
        "    #Calculating 25th and 75th percentile\n",
        "    students_within_25_and_75 = []\n",
        "    low = percentile(marks,25)\n",
        "    high = percentile(marks,75)\n",
        "    count=0\n",
        "    for ele in marks:\n",
        "      if ele >= low and ele <=high and count<5:\n",
        "        students_within_25_and_75.append(d[ele])\n",
        "        count=count+1\n",
        "        \n",
        "\n",
        "    return top_5_students, least_5_students, students_within_25_and_75,d\n",
        "\n",
        "top_5_students, least_5_students, students_within_25_and_75,dic = display_dash_board(students, marks)\n",
        "#Getting the marks for a given student from dict\n",
        "def get_key(val):\n",
        "  for key,value in dic.items():\n",
        "    if val == value:\n",
        "      return key\n",
        "marks = []\n",
        "for ele in top_5_students:\n",
        "  marks.append(get_key(ele))\n",
        "print('a.')\n",
        "for i in range(len(top_5_students)):\n",
        "  print('{0} {1}'.format(top_5_students[i],marks[i]))\n",
        "marks=[]\n",
        "for ele in least_5_students:\n",
        "  marks.append(get_key(ele))\n",
        "print('b.')\n",
        "for i in range(len(least_5_students)):\n",
        "  print('{0} {1}'.format(least_5_students[i],marks[i]))\n",
        "marks=[]\n",
        "for ele in students_within_25_and_75:\n",
        "  marks.append(get_key(ele))\n",
        "print('c.')\n",
        "for i in range(len(students_within_25_and_75)):\n",
        "  print('{0} {1}'.format(students_within_25_and_75[i],marks[i]))\n"
      ],
      "execution_count": 16,
      "outputs": [
        {
          "output_type": "stream",
          "text": [
            "a.\n",
            "student8 98\n",
            "student10 80\n",
            "student2 78\n",
            "student5 48\n",
            "student7 47\n",
            "b.\n",
            "student3 12\n",
            "student4 14\n",
            "student9 35\n",
            "student6 43\n",
            "student1 45\n",
            "c.\n",
            "student9 35\n",
            "student6 43\n",
            "student1 45\n",
            "student7 47\n",
            "student5 48\n"
          ],
          "name": "stdout"
        }
      ]
    },
    {
      "cell_type": "markdown",
      "metadata": {
        "id": "qha0OhQHB-k1"
      },
      "source": [
        "<h3> Q5: Find the closest points</h3>\n",
        "\n",
        "consider you have given n data points in the form of list of tuples like S=[(x1,y1),(x2,y2),(x3,y3),(x4,y4),(x5,y5),..,(xn,yn)] and a point P=(p,q) <br> your task is to find 5 closest points(based on cosine distance) in S from P\n",
        "<br>cosine distance between two points (x,y) and (p,q) is defind as $cos^{-1}(\\frac{(x\\cdot p+y\\cdot q)}{\\sqrt(x^2+y^2)\\cdot\\sqrt(p^2+q^2)})$\n",
        "<pre>\n",
        "Ex:\n",
        "\n",
        "S= [(1,2),(3,4),(-1,1),(6,-7),(0, 6),(-5,-8),(-1,-1)(6,0),(1,-1)]\n",
        "P= (3,-4)\n",
        "<img src='https://i.imgur.com/vIFPOcG.jpg', width=300>\n",
        "Output:\n",
        "(6,-7)\n",
        "(1,-1)\n",
        "(6,0)\n",
        "(-5,-8)\n",
        "(-1,-1)\n",
        "</pre>"
      ]
    },
    {
      "cell_type": "code",
      "metadata": {
        "id": "wA5I1g-2B-k2",
        "outputId": "7e8ffb00-b5ee-4144-f341-4fb953177ef9",
        "colab": {
          "base_uri": "https://localhost:8080/",
          "height": 118
        }
      },
      "source": [
        "import math\n",
        "\n",
        "# write your python code here\n",
        "# you can take the above example as sample input for your program to test\n",
        "# it should work for any general input try not to hard code for only given input examples\n",
        "# you can free to change all these codes/structure\n",
        "\n",
        "\n",
        "def dist(S,P):\n",
        "  \"\"\"Finding the cosine similarity distance \n",
        "between the points\"\"\"\n",
        "\n",
        "  (x,y) = S\n",
        "  (p,q) = P\n",
        "  num = (x*p)+(y*q)\n",
        "  den = math.sqrt(x**2+y**2)*math.sqrt(p**2+q**2)\n",
        "  return math.acos(num/den)\n",
        "\n",
        "# here S is list of tuples and P is a tuple ot len=2\n",
        "def closest_points_to_p(S, P):\n",
        "    # write your code here\n",
        "    dct = {} #Storing the distance and corresponding Si as key-value pairs\n",
        "    dis = [] # Storing the distance between Si's and P as list\n",
        "    for point in S:\n",
        "      dis.append(dist(point,P))\n",
        "    i=0\n",
        "    for length in dis:\n",
        "      dct[length] = S[i]\n",
        "      i=i+1\n",
        "    dis.sort()\n",
        "    closest_points_to_p = []\n",
        "    for i in range(5) :\n",
        "      closest_points_to_p.append(dct[dis[i]])\n",
        "    return closest_points_to_p  # its list of tuples\n",
        "\n",
        "S= [(1,2),(3,4),(-1,1),(6,-7),(0, 6),(-5,-8),(-1,-1),(6,0),(1,-1)]\n",
        "P= (3,-4)\n",
        "points = closest_points_to_p(S, P)\n",
        "print(\"Output :\")\n",
        "for ele in points:\n",
        "  print(ele) #print the returned values"
      ],
      "execution_count": 5,
      "outputs": [
        {
          "output_type": "stream",
          "text": [
            "Output :\n",
            "(6, -7)\n",
            "(1, -1)\n",
            "(6, 0)\n",
            "(-5, -8)\n",
            "(-1, -1)\n"
          ],
          "name": "stdout"
        }
      ]
    },
    {
      "cell_type": "markdown",
      "metadata": {
        "id": "-g11jeAiB-k5"
      },
      "source": [
        "<h3> Q6: Find Which line separates oranges and apples</h3>\n",
        "consider you have given two set of data points in the form of list of tuples like \n",
        "<pre>\n",
        "Red =[(R11,R12),(R21,R22),(R31,R32),(R41,R42),(R51,R52),..,(Rn1,Rn2)]\n",
        "Blue=[(B11,B12),(B21,B22),(B31,B32),(B41,B42),(B51,B52),..,(Bm1,Bm2)]\n",
        "</pre>\n",
        "and set of line equations(in the string formate, i.e list of strings)\n",
        "<pre>\n",
        "Lines = [a1x+b1y+c1,a2x+b2y+c2,a3x+b3y+c3,a4x+b4y+c4,..,K lines]\n",
        "Note: you need to string parsing here and get the coefficients of x,y and intercept\n",
        "</pre>\n",
        "your task is to for each line that is given print \"YES\"/\"NO\", you will print yes, if all the red points are one side of the line and blue points are other side of the line, otherwise no\n",
        "<pre>\n",
        "Ex:\n",
        "Red= [(1,1),(2,1),(4,2),(2,4), (-1,4)]\n",
        "Blue= [(-2,-1),(-1,-2),(-3,-2),(-3,-1),(1,-3)]\n",
        "Lines=[\"1x+1y+0\",\"1x-1y+0\",\"1x+0y-3\",\"0x+1y-0.5\"]\n",
        "<img src='https://i.imgur.com/DoQf7mE.jpg' width=400>\n",
        "Output:\n",
        "YES\n",
        "NO\n",
        "NO\n",
        "YES\n",
        "</pre>"
      ]
    },
    {
      "cell_type": "code",
      "metadata": {
        "id": "eRxExaTRB-k6",
        "outputId": "0e5a129e-5680-4657-a953-5a8d6cc4197d",
        "colab": {
          "base_uri": "https://localhost:8080/",
          "height": 101
        }
      },
      "source": [
        "import math,functools\n",
        "# write your python code here\n",
        "# you can take the above example as sample input for your program to test\n",
        "# it should work for any general input try not to hard code for only given input strings\n",
        "def extract(line):\n",
        "  \"\"\"Extracts the coeffeicents from the line string\"\"\"\n",
        "  line = line.replace('x',',').replace('y',',').split(',')\n",
        "  no = []\n",
        "  for ele in line:\n",
        "    no.append(float(ele))\n",
        "  return no\n",
        "def f(a,b,c,x):\n",
        "  \"\"\"For a given co-ordinate and x component, computes the y component satisfiying the eqn \n",
        "of the line\"\"\"\n",
        "  if (a==0):\n",
        "    return c\n",
        "  else:\n",
        "    return (-b/a)*x+c\n",
        "def dist(x,y,x1,y1,x2,y2):\n",
        "  \"\"\"Tells if the point is on side or the other side based on the sign of the \n",
        "return value\"\"\"\n",
        "  return (x-x1)*(y2-y1)-(y-y1)*(x2-x1)\n",
        "# you can free to change all these codes/structure\n",
        "def i_am_the_one(red,blue,line):\n",
        "    # your code\n",
        "    no = extract(line) #Extracted the coeffs and stored in an array for the given line equatiion\n",
        "    P1=[1,1] # A random point P1(1,y) initialized with x component as 1 and to compute the y component satisfying the given eqn\n",
        "    P2=[2,1] # A random point P2(2,y) initialized with x component as 2 and to compute the y component satisfying the given eqn\n",
        "    P2[1] = f(no[0],no[1],no[2],P2[0])\n",
        "    P1[1] = f(no[0],no[1],no[2],P1[0])\n",
        "    Red_res=[] # To store dist values for all red points\n",
        "    Blue_res=[] # To store dist value for all blue points\n",
        "    for point in Red:\n",
        "      Red_res.append(dist(point[0],point[1],P1[0],P1[1],P2[0],P2[1]))\n",
        "    for point in Blue:\n",
        "      Blue_res.append(dist(point[0],point[1],P1[0],P1[1],P2[0],P2[1]))\n",
        "    \"\"\"To test whether all blue and red points are classifed completely\n",
        "Blue_res and Red_res arrays are mutated to hold only the signs of dist values.\n",
        "Completed seperable by the lines means blue points will have a single sign and\n",
        "red points will have the opposite sign.\n",
        "If the number of signs in blue is additive inverse of number of signs of red return yes \"\"\"\n",
        "    for i in range(len(Blue_res)):\n",
        "      if (Blue_res[i]==0):\n",
        "        continue\n",
        "      Blue_res[i]/=abs(Blue_res[i])\n",
        "    for i in range(len(Red_res)):\n",
        "      if (Red_res[i]==0):\n",
        "        continue\n",
        "      Red_res[i]/=abs(Red_res[i])\n",
        "  \n",
        "    sum1 = functools.reduce(lambda a,b : a+b,Blue_res)\n",
        "    sum2=functools.reduce(lambda a,b : a+b,Red_res)\n",
        "    if (sum1*-1==sum2):\n",
        "      return \"YES\"\n",
        "    else:\n",
        "      return \"NO\"\n",
        "    return #yes/no\n",
        "\n",
        "Red= [(1,1),(2,1),(4,2),(2,4), (-1,4)]\n",
        "Blue= [(-2,-1),(-1,-2),(-3,-2),(-3,-1),(1,-3)]\n",
        "Lines=[\"1x+1y+0\",\"1x-1y+0\",\"1x+0y-3\",\"0x+1y-0.5\"]\n",
        "\n",
        "print('Output :')\n",
        "for i in Lines:\n",
        "    yes_or_no = i_am_the_one(Red, Blue, i)\n",
        "    print(yes_or_no) # the returned value"
      ],
      "execution_count": 6,
      "outputs": [
        {
          "output_type": "stream",
          "text": [
            "Output :\n",
            "YES\n",
            "NO\n",
            "NO\n",
            "YES\n"
          ],
          "name": "stdout"
        }
      ]
    },
    {
      "cell_type": "markdown",
      "metadata": {
        "id": "9OBpURbNB-k9"
      },
      "source": [
        "<h3> Q7: Filling the missing values in the specified formate</h3>\n",
        "You will be given a string with digits and '\\_'(missing value) symbols you have to replace the '\\_' symbols as explained \n",
        "<pre>\n",
        "Ex 1: _, _, _, 24 ==> 24/4, 24/4, 24/4, 24/4 i.e we. have distributed the 24 equally to all 4 places <br>\n",
        "Ex 2: 40, _, _, _, 60 ==> (60+40)/5,(60+40)/5,(60+40)/5,(60+40)/5,(60+40)/5 ==> 20, 20, 20, 20, 20 i.e. the sum of (60+40) is distributed qually to all 5 places<br>\n",
        "Ex 3: 80, _, _, _, _  ==> 80/5,80/5,80/5,80/5,80/5 ==> 16, 16, 16, 16, 16 i.e. the 80 is distributed qually to all 5 missing values that are right to it<br>\n",
        "Ex 4: _, _, 30, _, _, _, 50, _, _  \n",
        "==> we will fill the missing values from left to right \n",
        "    a. first we will distribute the 30 to left two missing values (10, 10, 10, _, _, _, 50, _, _)\n",
        "    b. now distribute the sum (10+50) missing values in between (10, 10, 12, 12, 12, 12, 12, _, _) \n",
        "    c. now we will distribute 12 to right side missing values (10, 10, 12, 12, 12, 12, 4, 4, 4)\n",
        "</pre>\n",
        "for a given string with comma seprate values, which will have both missing values numbers like ex: \"_, _, x, _, _, _\"\n",
        "you need fill the missing values\n",
        "\n",
        "Q: your program reads a string like ex: \"_, _, x, _, _, _\" and returns the filled sequence\n",
        "\n",
        "Ex: \n",
        "<pre>\n",
        "Input1: \"_,_,_,24\"\n",
        "Output1: 6,6,6,6\n",
        "\n",
        "Input2: \"40,_,_,_,60\"\n",
        "Output2: 20,20,20,20,20\n",
        "\n",
        "Input3: \"80,_,_,_,_\"\n",
        "Output3: 16,16,16,16,16\n",
        "\n",
        "Input4: \"_,_,30,_,_,_,50,_,_\"\n",
        "Output4: 10,10,12,12,12,12,4,4,4\n",
        "</pre>\n",
        "\n"
      ]
    },
    {
      "cell_type": "code",
      "metadata": {
        "id": "nZmpzHs_B-k-",
        "outputId": "138fc283-0f75-490d-cfb7-55ffbc03f1a8",
        "colab": {
          "base_uri": "https://localhost:8080/",
          "height": 34
        }
      },
      "source": [
        "# write your python code here\n",
        "# you can take the above example as sample input for your program to test\n",
        "# it should work for any general input try not to hard code for only given input strings\n",
        "# Reference: https://stackoverflow.com/questions/57179618/filling-the-missing-values-in-the-specified-format-python\n",
        "\n",
        "def modify(arr,i,j):\n",
        "  \"\"\"Modifiying the empty gaps with values\"\"\"\n",
        "  if i==-1: #If str starts with '_' calculating the average value based on number of '_'\n",
        "    v= float(arr[j])/(j+1)\n",
        "    for k in range(i+1,j+1):\n",
        "      arr[k]=v\n",
        "  elif j==-1: # If str ends with '_' calculating the average value based on number of '_'\n",
        "    l=len(arr)-i\n",
        "    v = float(arr[i])/l\n",
        "    for k in range(i,len(arr)):\n",
        "      arr[k]=v\n",
        "  else:\n",
        "    v = (float(arr[i])+float(arr[j]))/(j-i+1)\n",
        "    for k in range(i,j+1):\n",
        "      arr[k] = v\n",
        "  return arr\n",
        "\n",
        "# you can free to change all these codes/structure\n",
        "def curve_smoothing(string):\n",
        "  arr=string.split(',')\n",
        "  index_N=[] #Storing the index of numbers\n",
        "  for i in range(len(arr)):\n",
        "    if (arr[i]!='_'):\n",
        "      index_N.append(i)\n",
        "  if index_N[0]!=0: #If str starts with '_' unshift array with -1\n",
        "    index_N = [-1] + index_N\n",
        "  if index_N[-1]!=len(arr)-1: # If str ends with '_' append -1 to array\n",
        "    index_N.append(-1)\n",
        "  for (i,j) in zip(index_N[:-1], index_N[1:]):\n",
        "        modify(arr,i,j) #Modiying the string \n",
        "  for i in range(len(arr)):\n",
        "    arr[i]=int(arr[i])\n",
        "  return arr\n",
        "\n",
        "S=  \"_,_,30,_,_,_,50,_,_\"\n",
        "smoothed_values= curve_smoothing(S)\n",
        "print(smoothed_values)"
      ],
      "execution_count": 18,
      "outputs": [
        {
          "output_type": "stream",
          "text": [
            "[10, 10, 12, 12, 12, 12, 4, 4, 4]\n"
          ],
          "name": "stdout"
        }
      ]
    },
    {
      "cell_type": "markdown",
      "metadata": {
        "id": "RBz4pzlfB-lB"
      },
      "source": [
        "<h3> Q8: Filling the missing values in the specified formate</h3>\n",
        "You will be given a list of lists, each sublist will be of length 2 i.e. [[x,y],[p,q],[l,m]..[r,s]]\n",
        "consider its like a martrix of n rows and two columns\n",
        "1. the first column F will contain only 5 uniques values (F1, F2, F3, F4, F5)\n",
        "2. the second column S will contain only 3 uniques values (S1, S2, S3)\n",
        "<pre>\n",
        "your task is to find\n",
        "a. Probability of P(F=F1|S==S1), P(F=F1|S==S2), P(F=F1|S==S3)\n",
        "b. Probability of P(F=F2|S==S1), P(F=F2|S==S2), P(F=F2|S==S3)\n",
        "c. Probability of P(F=F3|S==S1), P(F=F3|S==S2), P(F=F3|S==S3)\n",
        "d. Probability of P(F=F4|S==S1), P(F=F4|S==S2), P(F=F4|S==S3)\n",
        "e. Probability of P(F=F5|S==S1), P(F=F5|S==S2), P(F=F5|S==S3)\n",
        "</pre>\n",
        "Ex:\n",
        "\n",
        "<pre>\n",
        "[[F1,S1],[F2,S2],[F3,S3],[F1,S2],[F2,S3],[F3,S2],[F2,S1],[F4,S1],[F4,S3],[F5,S1]]\n",
        "\n",
        "a. P(F=F1|S==S1)=1/4, P(F=F1|S==S2)=1/3, P(F=F1|S==S3)=0/3\n",
        "b. P(F=F2|S==S1)=1/4, P(F=F2|S==S2)=1/3, P(F=F2|S==S3)=1/3\n",
        "c. P(F=F3|S==S1)=0/4, P(F=F3|S==S2)=1/3, P(F=F3|S==S3)=1/3\n",
        "d. P(F=F4|S==S1)=1/4, P(F=F4|S==S2)=0/3, P(F=F4|S==S3)=1/3\n",
        "e. P(F=F5|S==S1)=1/4, P(F=F5|S==S2)=0/3, P(F=F5|S==S3)=0/3\n",
        "</pre>\n",
        "\n",
        "\n"
      ]
    },
    {
      "cell_type": "code",
      "metadata": {
        "id": "e-1giz1MB-lC",
        "outputId": "fbaf1016-9bfe-402e-b5a1-52318fbf5525",
        "colab": {
          "base_uri": "https://localhost:8080/",
          "height": 101
        }
      },
      "source": [
        "# write your python code here\n",
        "# you can take the above example as sample input for your program to test\n",
        "# it should work for any general input try not to hard code for only given input strings\n",
        "\n",
        "\n",
        "\n",
        "# you can free to change all these codes/structure\n",
        "def compute_conditional_probabilites(A):\n",
        "    # your code\n",
        "    count_S=[0]*3 #List to store count of Si's with i-1 being the index\n",
        "    for sub_list in A:\n",
        "      if sub_list[1]=='S1':\n",
        "        count_S[0]+=1\n",
        "      elif sub_list[1]=='S2':\n",
        "        count_S[1]+=1\n",
        "      elif sub_list[1]=='S3':\n",
        "        count_S[2]+=1\n",
        "      else:\n",
        "        continue\n",
        "    # A dct to store the count of Fi's given Si\n",
        "    #If count of F1 given S1 = 1 that value is stored in list[0] of key S1\n",
        "    #count of Fi is stored in that index (i-1) of list with key Si\n",
        "    dct={'S1':[0,0,0,0,0],'S2':[0,0,0,0,0],'S3':[0,0,0,0,0]}\n",
        "    for sub_list in A:\n",
        "      if sub_list[0]=='F1':\n",
        "        dct[sub_list[1]][0]+=1\n",
        "      if sub_list[0]=='F2':\n",
        "        dct[sub_list[1]][1]+=1\n",
        "      if sub_list[0]=='F3':\n",
        "        dct[sub_list[1]][2]+=1\n",
        "      if sub_list[0]=='F4':\n",
        "        dct[sub_list[1]][3]+=1\n",
        "      if sub_list[0]=='F5':\n",
        "        dct[sub_list[1]][4]+=1\n",
        "    print(\"a. P(F=F1|S==S1)={0}/{1}, P(F=F1|S==S2)={2}/{3}, P(F=F1|S==S3)={4}/{5}\".format(dct['S1'][0],count_S[0],dct['S2'][0],count_S[1],dct['S3'][0],count_S[2]))\n",
        "    print(\"b. P(F=F2|S==S1)={0}/{1}, P(F=F2|S==S2)={2}/{3}, P(F=F2|S==S3)={4}/{5}\".format(dct['S1'][1],count_S[0],dct['S2'][1],count_S[1],dct['S3'][1],count_S[2]))\n",
        "    print(\"c. P(F=F3|S==S1)={0}/{1}, P(F=F3|S==S2)={2}/{3}, P(F=F3|S==S3)={4}/{5}\".format(dct['S1'][2],count_S[0],dct['S2'][2],count_S[1],dct['S3'][2],count_S[2]))\n",
        "    print(\"d. P(F=F4|S==S1)={0}/{1}, P(F=F4|S==S2)={2}/{3}, P(F=F4|S==S3)={4}/{5}\".format(dct['S1'][3],count_S[0],dct['S2'][3],count_S[1],dct['S3'][3],count_S[2]))\n",
        "    print(\"d. P(F=F5|S==S1)={0}/{1}, P(F=F5|S==S2)={2}/{3}, P(F=F5|S==S3)={4}/{5}\".format(dct['S1'][4],count_S[0],dct['S2'][4],count_S[1],dct['S3'][4],count_S[2]))\n",
        "    \n",
        "    \n",
        "\n",
        "    # print the output as per the instructions\n",
        "\n",
        "A = [['F1','S1'],['F2','S2'],['F3','S3'],['F1','S2'],['F2','S3'],['F3','S2'],['F2','S1'],['F4','S1'],['F4','S3'],['F5','S1']]\n",
        "compute_conditional_probabilites(A)"
      ],
      "execution_count": 8,
      "outputs": [
        {
          "output_type": "stream",
          "text": [
            "a. P(F=F1|S==S1)=1/4, P(F=F1|S==S2)=1/3, P(F=F1|S==S3)=0/3\n",
            "b. P(F=F2|S==S1)=1/4, P(F=F2|S==S2)=1/3, P(F=F2|S==S3)=1/3\n",
            "c. P(F=F3|S==S1)=0/4, P(F=F3|S==S2)=1/3, P(F=F3|S==S3)=1/3\n",
            "d. P(F=F4|S==S1)=1/4, P(F=F4|S==S2)=0/3, P(F=F4|S==S3)=1/3\n",
            "d. P(F=F5|S==S1)=1/4, P(F=F5|S==S2)=0/3, P(F=F5|S==S3)=0/3\n"
          ],
          "name": "stdout"
        }
      ]
    },
    {
      "cell_type": "markdown",
      "metadata": {
        "id": "n4HS87QmB-lF"
      },
      "source": [
        "<h3> Q9: Given two sentances S1, S2</h3>\n",
        "You will be given two sentances S1, S2 your task is to find \n",
        "<pre>\n",
        "a. Number of common words between S1, S2\n",
        "b. Words in S1 but not in S2\n",
        "c. Words in S2 but not in S1\n",
        "</pre>\n",
        "\n",
        "Ex: \n",
        "<pre>\n",
        "S1= \"the first column F will contain only 5 uniques values\"\n",
        "S2= \"the second column S will contain only 3 uniques values\"\n",
        "Output:\n",
        "a. 7\n",
        "b. ['first','F','5']\n",
        "c. ['second','S','3']\n",
        "</pre>"
      ]
    },
    {
      "cell_type": "code",
      "metadata": {
        "id": "Ez7hlHK0B-lG",
        "outputId": "d7127715-569b-4f39-ee65-a1bbd836567c",
        "colab": {
          "base_uri": "https://localhost:8080/",
          "height": 67
        }
      },
      "source": [
        "# write your python code here\n",
        "# you can take the above example as sample input for your program to test\n",
        "# it should work for any general input try not to hard code for only given input strings\n",
        "\n",
        "# you can free to change all these codes/structure\n",
        "def string_features(S1, S2):\n",
        "    # your code\n",
        "  S1=list(S1.split(' '))\n",
        "  S2=list(S2.split(' '))\n",
        "  dct={} # Using a dict to keep track of common words\n",
        "  res=[] # and storing common words in list\n",
        "  for word in S1:\n",
        "    dct[word]=1\n",
        "  for word in S2:\n",
        "    if (word in dct):\n",
        "      res.append(word)\n",
        "  a=len(res)  \n",
        "  set1=set(S1)\n",
        "  set2=set(S2)\n",
        "  b=list(set1-set2) # this Set difference gives words in S1 but not in S2\n",
        "  c=list(set2-set1) # this Set difference gives  Words in S2 but not in S1\n",
        "  return a, b, c\n",
        "\n",
        "S1= \"the first column F will contain only 5 uniques values\"\n",
        "S2= \"the second column S will contain only 3 uniques values\"\n",
        "a,b,c = string_features(S1, S2)\n",
        "print(\"a. {0}\".format(a))\n",
        "print(\"b. {0}\".format(b))\n",
        "print(\"c. {0}\".format(c))\n"
      ],
      "execution_count": 9,
      "outputs": [
        {
          "output_type": "stream",
          "text": [
            "a. 7\n",
            "b. ['first', 'F', '5']\n",
            "c. ['3', 'S', 'second']\n"
          ],
          "name": "stdout"
        }
      ]
    },
    {
      "cell_type": "markdown",
      "metadata": {
        "id": "XefXVEjCB-lI"
      },
      "source": [
        "<h3> Q10: Given two sentances S1, S2</h3>\n",
        "You will be given a list of lists, each sublist will be of length 2 i.e. [[x,y],[p,q],[l,m]..[r,s]]\n",
        "consider its like a martrix of n rows and two columns\n",
        "\n",
        "a. the first column Y will contain interger values <br>\n",
        "b. the second column $Y_{score}$ will be having float values <br>\n",
        "Your task is to find the value of $f(Y,Y_{score}) = -1*\\frac{1}{n}\\Sigma_{for each Y,Y_{score} pair}(Ylog10(Y_{score})+(1-Y)log10(1-Y_{score}))$ here n is the number of rows in the matrix\n",
        "<pre>\n",
        "Ex:\n",
        "[[1, 0.4], [0, 0.5], [0, 0.9], [0, 0.3], [0, 0.6], [1, 0.1], [1, 0.9], [1, 0.8]]\n",
        "output:\n",
        "0.4243099\n",
        "</pre>\n",
        "$\\frac{-1}{8}\\cdot((1\\cdot log_{10}(0.4)+0\\cdot log_{10}(0.6))+(0\\cdot log_{10}(0.5)+1\\cdot log_{10}(0.5)) + ... + (1\\cdot log_{10}(0.8)+0\\cdot log_{10}(0.2)) )$"
      ]
    },
    {
      "cell_type": "code",
      "metadata": {
        "id": "N9zkagyNB-lJ",
        "outputId": "549faeb4-0fa7-4891-eafa-baa6b90c8425",
        "colab": {
          "base_uri": "https://localhost:8080/",
          "height": 50
        }
      },
      "source": [
        "# write your python code here\n",
        "# you can take the above example as sample input for your program to test\n",
        "# it should work for any general input try not to hard code for only given input strings\n",
        "import math\n",
        "def f(y,y_score):\n",
        "  \"\"\"Defining the loss function for single component \n",
        "given a y and y_score values\"\"\"\n",
        "  term1 = y*math.log(y_score,10)\n",
        "  term2 = (1-y)*math.log(1-y_score,10)\n",
        "  return term1+term2\n",
        "\n",
        "# you can free to change all these codes/structure\n",
        "def compute_log_loss(A):\n",
        "    # your code\n",
        "  loss=0.0\n",
        "  for ele in A:\n",
        "    loss+=f(ele[0],ele[1])\n",
        "  loss/=-len(A)\n",
        "  return loss\n",
        "\n",
        "A = [[1, 0.4], [0, 0.5], [0, 0.9], [0, 0.3], [0, 0.6], [1, 0.1], [1, 0.9], [1, 0.8]]\n",
        "loss = compute_log_loss(A)\n",
        "print(\"Output :\")\n",
        "print(loss)"
      ],
      "execution_count": 10,
      "outputs": [
        {
          "output_type": "stream",
          "text": [
            "Output :\n",
            "0.42430993457031635\n"
          ],
          "name": "stdout"
        }
      ]
    }
  ]
}